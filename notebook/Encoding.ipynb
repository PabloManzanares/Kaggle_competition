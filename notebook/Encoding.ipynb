{
 "cells": [
  {
   "cell_type": "code",
   "execution_count": 17,
   "id": "00f7f438",
   "metadata": {},
   "outputs": [],
   "source": [
    "import pandas as pd\n",
    "from sklearn.preprocessing import LabelEncoder\n",
    "from sklearn.preprocessing import OneHotEncoder \n",
    "\n",
    "import warnings\n",
    "warnings.filterwarnings('ignore')\n",
    "pd.options.display.max_columns = None"
   ]
  },
  {
   "cell_type": "code",
   "execution_count": 18,
   "id": "d9a8c34e",
   "metadata": {},
   "outputs": [
    {
     "data": {
      "text/html": [
       "<div>\n",
       "<style scoped>\n",
       "    .dataframe tbody tr th:only-of-type {\n",
       "        vertical-align: middle;\n",
       "    }\n",
       "\n",
       "    .dataframe tbody tr th {\n",
       "        vertical-align: top;\n",
       "    }\n",
       "\n",
       "    .dataframe thead th {\n",
       "        text-align: right;\n",
       "    }\n",
       "</style>\n",
       "<table border=\"1\" class=\"dataframe\">\n",
       "  <thead>\n",
       "    <tr style=\"text-align: right;\">\n",
       "      <th></th>\n",
       "      <th>carat</th>\n",
       "      <th>cut</th>\n",
       "      <th>color</th>\n",
       "      <th>clarity</th>\n",
       "      <th>price</th>\n",
       "      <th>size</th>\n",
       "    </tr>\n",
       "    <tr>\n",
       "      <th>id</th>\n",
       "      <th></th>\n",
       "      <th></th>\n",
       "      <th></th>\n",
       "      <th></th>\n",
       "      <th></th>\n",
       "      <th></th>\n",
       "    </tr>\n",
       "  </thead>\n",
       "  <tbody>\n",
       "    <tr>\n",
       "      <th>0</th>\n",
       "      <td>0.30</td>\n",
       "      <td>Premium</td>\n",
       "      <td>D</td>\n",
       "      <td>SI2</td>\n",
       "      <td>6.353</td>\n",
       "      <td>49.437424</td>\n",
       "    </tr>\n",
       "    <tr>\n",
       "      <th>1</th>\n",
       "      <td>1.01</td>\n",
       "      <td>Ideal</td>\n",
       "      <td>E</td>\n",
       "      <td>VVS2</td>\n",
       "      <td>9.183</td>\n",
       "      <td>167.551728</td>\n",
       "    </tr>\n",
       "  </tbody>\n",
       "</table>\n",
       "</div>"
      ],
      "text/plain": [
       "    carat      cut color clarity  price        size\n",
       "id                                                 \n",
       "0    0.30  Premium     D     SI2  6.353   49.437424\n",
       "1    1.01    Ideal     E    VVS2  9.183  167.551728"
      ]
     },
     "execution_count": 18,
     "metadata": {},
     "output_type": "execute_result"
    }
   ],
   "source": [
    "df = pd.read_csv(\"../data/dfproc.csv\", index_col = 0)\n",
    "df.head(2)"
   ]
  },
  {
   "cell_type": "code",
   "execution_count": 19,
   "id": "cdcbfc1e",
   "metadata": {},
   "outputs": [
    {
     "data": {
      "text/html": [
       "<div>\n",
       "<style scoped>\n",
       "    .dataframe tbody tr th:only-of-type {\n",
       "        vertical-align: middle;\n",
       "    }\n",
       "\n",
       "    .dataframe tbody tr th {\n",
       "        vertical-align: top;\n",
       "    }\n",
       "\n",
       "    .dataframe thead th {\n",
       "        text-align: right;\n",
       "    }\n",
       "</style>\n",
       "<table border=\"1\" class=\"dataframe\">\n",
       "  <thead>\n",
       "    <tr style=\"text-align: right;\">\n",
       "      <th></th>\n",
       "      <th>carat</th>\n",
       "      <th>cut</th>\n",
       "      <th>color</th>\n",
       "      <th>clarity</th>\n",
       "      <th>price</th>\n",
       "      <th>size</th>\n",
       "    </tr>\n",
       "    <tr>\n",
       "      <th>id</th>\n",
       "      <th></th>\n",
       "      <th></th>\n",
       "      <th></th>\n",
       "      <th></th>\n",
       "      <th></th>\n",
       "      <th></th>\n",
       "    </tr>\n",
       "  </thead>\n",
       "  <tbody>\n",
       "    <tr>\n",
       "      <th>0</th>\n",
       "      <td>0.30</td>\n",
       "      <td>Premium</td>\n",
       "      <td>D</td>\n",
       "      <td>SI2</td>\n",
       "      <td>6.353</td>\n",
       "      <td>49.437424</td>\n",
       "    </tr>\n",
       "    <tr>\n",
       "      <th>1</th>\n",
       "      <td>1.01</td>\n",
       "      <td>Ideal</td>\n",
       "      <td>E</td>\n",
       "      <td>VVS2</td>\n",
       "      <td>9.183</td>\n",
       "      <td>167.551728</td>\n",
       "    </tr>\n",
       "  </tbody>\n",
       "</table>\n",
       "</div>"
      ],
      "text/plain": [
       "    carat      cut color clarity  price        size\n",
       "id                                                 \n",
       "0    0.30  Premium     D     SI2  6.353   49.437424\n",
       "1    1.01    Ideal     E    VVS2  9.183  167.551728"
      ]
     },
     "execution_count": 19,
     "metadata": {},
     "output_type": "execute_result"
    }
   ],
   "source": [
    "df2 = df.copy()\n",
    "df2.head(2)"
   ]
  },
  {
   "cell_type": "code",
   "execution_count": 20,
   "id": "e582a3fc",
   "metadata": {},
   "outputs": [
    {
     "data": {
      "text/plain": [
       "array(['Premium', 'Ideal', 'Very Good', 'Fair', 'Good'], dtype=object)"
      ]
     },
     "execution_count": 20,
     "metadata": {},
     "output_type": "execute_result"
    }
   ],
   "source": [
    "df2.cut.unique()"
   ]
  },
  {
   "cell_type": "code",
   "execution_count": 21,
   "id": "92ebece4",
   "metadata": {},
   "outputs": [],
   "source": [
    "mapa = {\"Premium\": 4, \n",
    "        \"Ideal\": 3,\n",
    "        'Very Good' : 2,\n",
    "        'Fair' : 1,\n",
    "        'Good': 0}"
   ]
  },
  {
   "cell_type": "code",
   "execution_count": 22,
   "id": "4e43e76b",
   "metadata": {},
   "outputs": [],
   "source": [
    "df2[\"cut\"] = df2[\"cut\"].map(mapa)"
   ]
  },
  {
   "cell_type": "code",
   "execution_count": 23,
   "id": "b96cde1a",
   "metadata": {},
   "outputs": [
    {
     "data": {
      "text/html": [
       "<div>\n",
       "<style scoped>\n",
       "    .dataframe tbody tr th:only-of-type {\n",
       "        vertical-align: middle;\n",
       "    }\n",
       "\n",
       "    .dataframe tbody tr th {\n",
       "        vertical-align: top;\n",
       "    }\n",
       "\n",
       "    .dataframe thead th {\n",
       "        text-align: right;\n",
       "    }\n",
       "</style>\n",
       "<table border=\"1\" class=\"dataframe\">\n",
       "  <thead>\n",
       "    <tr style=\"text-align: right;\">\n",
       "      <th></th>\n",
       "      <th>carat</th>\n",
       "      <th>cut</th>\n",
       "      <th>color</th>\n",
       "      <th>clarity</th>\n",
       "      <th>price</th>\n",
       "      <th>size</th>\n",
       "    </tr>\n",
       "    <tr>\n",
       "      <th>id</th>\n",
       "      <th></th>\n",
       "      <th></th>\n",
       "      <th></th>\n",
       "      <th></th>\n",
       "      <th></th>\n",
       "      <th></th>\n",
       "    </tr>\n",
       "  </thead>\n",
       "  <tbody>\n",
       "    <tr>\n",
       "      <th>0</th>\n",
       "      <td>0.30</td>\n",
       "      <td>4</td>\n",
       "      <td>D</td>\n",
       "      <td>SI2</td>\n",
       "      <td>6.353</td>\n",
       "      <td>49.437424</td>\n",
       "    </tr>\n",
       "    <tr>\n",
       "      <th>1</th>\n",
       "      <td>1.01</td>\n",
       "      <td>3</td>\n",
       "      <td>E</td>\n",
       "      <td>VVS2</td>\n",
       "      <td>9.183</td>\n",
       "      <td>167.551728</td>\n",
       "    </tr>\n",
       "    <tr>\n",
       "      <th>2</th>\n",
       "      <td>0.72</td>\n",
       "      <td>3</td>\n",
       "      <td>F</td>\n",
       "      <td>VS2</td>\n",
       "      <td>7.983</td>\n",
       "      <td>116.024916</td>\n",
       "    </tr>\n",
       "    <tr>\n",
       "      <th>3</th>\n",
       "      <td>1.08</td>\n",
       "      <td>2</td>\n",
       "      <td>G</td>\n",
       "      <td>SI2</td>\n",
       "      <td>8.371</td>\n",
       "      <td>175.141200</td>\n",
       "    </tr>\n",
       "    <tr>\n",
       "      <th>4</th>\n",
       "      <td>0.36</td>\n",
       "      <td>4</td>\n",
       "      <td>G</td>\n",
       "      <td>VS1</td>\n",
       "      <td>6.588</td>\n",
       "      <td>57.739500</td>\n",
       "    </tr>\n",
       "  </tbody>\n",
       "</table>\n",
       "</div>"
      ],
      "text/plain": [
       "    carat  cut color clarity  price        size\n",
       "id                                             \n",
       "0    0.30    4     D     SI2  6.353   49.437424\n",
       "1    1.01    3     E    VVS2  9.183  167.551728\n",
       "2    0.72    3     F     VS2  7.983  116.024916\n",
       "3    1.08    2     G     SI2  8.371  175.141200\n",
       "4    0.36    4     G     VS1  6.588   57.739500"
      ]
     },
     "execution_count": 23,
     "metadata": {},
     "output_type": "execute_result"
    }
   ],
   "source": [
    "df2.head()"
   ]
  },
  {
   "cell_type": "code",
   "execution_count": 24,
   "id": "2d482934",
   "metadata": {},
   "outputs": [
    {
     "data": {
      "text/plain": [
       "array(['SI2', 'VVS2', 'VS2', 'VS1', 'SI1', 'VVS1', 'IF', 'I1'],\n",
       "      dtype=object)"
      ]
     },
     "execution_count": 24,
     "metadata": {},
     "output_type": "execute_result"
    }
   ],
   "source": [
    "df2.clarity.unique()"
   ]
  },
  {
   "cell_type": "code",
   "execution_count": 25,
   "id": "b74809c4",
   "metadata": {},
   "outputs": [],
   "source": [
    "mapa2 = {\"IF\": 7, \n",
    "        \"VVS1\": 6,\n",
    "        'VVS2' : 5,\n",
    "        'VS1' : 4,\n",
    "        'VS2': 3,\n",
    "        'SI1': 2,\n",
    "        'SI2': 1,\n",
    "        'I1': 0}"
   ]
  },
  {
   "cell_type": "code",
   "execution_count": 26,
   "id": "860a08d3",
   "metadata": {},
   "outputs": [],
   "source": [
    "df2[\"clarity\"] = df2[\"clarity\"].map(mapa2)"
   ]
  },
  {
   "cell_type": "code",
   "execution_count": 27,
   "id": "61244102",
   "metadata": {},
   "outputs": [
    {
     "data": {
      "text/html": [
       "<div>\n",
       "<style scoped>\n",
       "    .dataframe tbody tr th:only-of-type {\n",
       "        vertical-align: middle;\n",
       "    }\n",
       "\n",
       "    .dataframe tbody tr th {\n",
       "        vertical-align: top;\n",
       "    }\n",
       "\n",
       "    .dataframe thead th {\n",
       "        text-align: right;\n",
       "    }\n",
       "</style>\n",
       "<table border=\"1\" class=\"dataframe\">\n",
       "  <thead>\n",
       "    <tr style=\"text-align: right;\">\n",
       "      <th></th>\n",
       "      <th>carat</th>\n",
       "      <th>cut</th>\n",
       "      <th>color</th>\n",
       "      <th>clarity</th>\n",
       "      <th>price</th>\n",
       "      <th>size</th>\n",
       "    </tr>\n",
       "    <tr>\n",
       "      <th>id</th>\n",
       "      <th></th>\n",
       "      <th></th>\n",
       "      <th></th>\n",
       "      <th></th>\n",
       "      <th></th>\n",
       "      <th></th>\n",
       "    </tr>\n",
       "  </thead>\n",
       "  <tbody>\n",
       "    <tr>\n",
       "      <th>0</th>\n",
       "      <td>0.30</td>\n",
       "      <td>4</td>\n",
       "      <td>D</td>\n",
       "      <td>1</td>\n",
       "      <td>6.353</td>\n",
       "      <td>49.437424</td>\n",
       "    </tr>\n",
       "    <tr>\n",
       "      <th>1</th>\n",
       "      <td>1.01</td>\n",
       "      <td>3</td>\n",
       "      <td>E</td>\n",
       "      <td>5</td>\n",
       "      <td>9.183</td>\n",
       "      <td>167.551728</td>\n",
       "    </tr>\n",
       "    <tr>\n",
       "      <th>2</th>\n",
       "      <td>0.72</td>\n",
       "      <td>3</td>\n",
       "      <td>F</td>\n",
       "      <td>3</td>\n",
       "      <td>7.983</td>\n",
       "      <td>116.024916</td>\n",
       "    </tr>\n",
       "    <tr>\n",
       "      <th>3</th>\n",
       "      <td>1.08</td>\n",
       "      <td>2</td>\n",
       "      <td>G</td>\n",
       "      <td>1</td>\n",
       "      <td>8.371</td>\n",
       "      <td>175.141200</td>\n",
       "    </tr>\n",
       "    <tr>\n",
       "      <th>4</th>\n",
       "      <td>0.36</td>\n",
       "      <td>4</td>\n",
       "      <td>G</td>\n",
       "      <td>4</td>\n",
       "      <td>6.588</td>\n",
       "      <td>57.739500</td>\n",
       "    </tr>\n",
       "  </tbody>\n",
       "</table>\n",
       "</div>"
      ],
      "text/plain": [
       "    carat  cut color  clarity  price        size\n",
       "id                                              \n",
       "0    0.30    4     D        1  6.353   49.437424\n",
       "1    1.01    3     E        5  9.183  167.551728\n",
       "2    0.72    3     F        3  7.983  116.024916\n",
       "3    1.08    2     G        1  8.371  175.141200\n",
       "4    0.36    4     G        4  6.588   57.739500"
      ]
     },
     "execution_count": 27,
     "metadata": {},
     "output_type": "execute_result"
    }
   ],
   "source": [
    "df2.head()"
   ]
  },
  {
   "cell_type": "code",
   "execution_count": 28,
   "id": "edca99de",
   "metadata": {},
   "outputs": [
    {
     "data": {
      "text/plain": [
       "array(['D', 'E', 'F', 'G', 'H', 'I', 'J'], dtype=object)"
      ]
     },
     "execution_count": 28,
     "metadata": {},
     "output_type": "execute_result"
    }
   ],
   "source": [
    "df2.color.unique()"
   ]
  },
  {
   "cell_type": "code",
   "execution_count": 29,
   "id": "baec67e9",
   "metadata": {},
   "outputs": [],
   "source": [
    "mapa3 = {\"D\": 6, \n",
    "        \"E\": 5,\n",
    "        'F' : 4,\n",
    "        'G' : 3,\n",
    "        'H': 2,\n",
    "        'I': 1,\n",
    "        'J': 0}"
   ]
  },
  {
   "cell_type": "code",
   "execution_count": 30,
   "id": "42db5919",
   "metadata": {},
   "outputs": [],
   "source": [
    "df2[\"color\"] = df2[\"color\"].map(mapa3)"
   ]
  },
  {
   "cell_type": "code",
   "execution_count": 31,
   "id": "4e56c40b",
   "metadata": {},
   "outputs": [
    {
     "data": {
      "text/html": [
       "<div>\n",
       "<style scoped>\n",
       "    .dataframe tbody tr th:only-of-type {\n",
       "        vertical-align: middle;\n",
       "    }\n",
       "\n",
       "    .dataframe tbody tr th {\n",
       "        vertical-align: top;\n",
       "    }\n",
       "\n",
       "    .dataframe thead th {\n",
       "        text-align: right;\n",
       "    }\n",
       "</style>\n",
       "<table border=\"1\" class=\"dataframe\">\n",
       "  <thead>\n",
       "    <tr style=\"text-align: right;\">\n",
       "      <th></th>\n",
       "      <th>carat</th>\n",
       "      <th>cut</th>\n",
       "      <th>color</th>\n",
       "      <th>clarity</th>\n",
       "      <th>price</th>\n",
       "      <th>size</th>\n",
       "    </tr>\n",
       "    <tr>\n",
       "      <th>id</th>\n",
       "      <th></th>\n",
       "      <th></th>\n",
       "      <th></th>\n",
       "      <th></th>\n",
       "      <th></th>\n",
       "      <th></th>\n",
       "    </tr>\n",
       "  </thead>\n",
       "  <tbody>\n",
       "    <tr>\n",
       "      <th>0</th>\n",
       "      <td>0.30</td>\n",
       "      <td>4</td>\n",
       "      <td>6</td>\n",
       "      <td>1</td>\n",
       "      <td>6.353</td>\n",
       "      <td>49.437424</td>\n",
       "    </tr>\n",
       "    <tr>\n",
       "      <th>1</th>\n",
       "      <td>1.01</td>\n",
       "      <td>3</td>\n",
       "      <td>5</td>\n",
       "      <td>5</td>\n",
       "      <td>9.183</td>\n",
       "      <td>167.551728</td>\n",
       "    </tr>\n",
       "    <tr>\n",
       "      <th>2</th>\n",
       "      <td>0.72</td>\n",
       "      <td>3</td>\n",
       "      <td>4</td>\n",
       "      <td>3</td>\n",
       "      <td>7.983</td>\n",
       "      <td>116.024916</td>\n",
       "    </tr>\n",
       "    <tr>\n",
       "      <th>3</th>\n",
       "      <td>1.08</td>\n",
       "      <td>2</td>\n",
       "      <td>3</td>\n",
       "      <td>1</td>\n",
       "      <td>8.371</td>\n",
       "      <td>175.141200</td>\n",
       "    </tr>\n",
       "    <tr>\n",
       "      <th>4</th>\n",
       "      <td>0.36</td>\n",
       "      <td>4</td>\n",
       "      <td>3</td>\n",
       "      <td>4</td>\n",
       "      <td>6.588</td>\n",
       "      <td>57.739500</td>\n",
       "    </tr>\n",
       "  </tbody>\n",
       "</table>\n",
       "</div>"
      ],
      "text/plain": [
       "    carat  cut  color  clarity  price        size\n",
       "id                                               \n",
       "0    0.30    4      6        1  6.353   49.437424\n",
       "1    1.01    3      5        5  9.183  167.551728\n",
       "2    0.72    3      4        3  7.983  116.024916\n",
       "3    1.08    2      3        1  8.371  175.141200\n",
       "4    0.36    4      3        4  6.588   57.739500"
      ]
     },
     "execution_count": 31,
     "metadata": {},
     "output_type": "execute_result"
    }
   ],
   "source": [
    "df2.head()"
   ]
  },
  {
   "cell_type": "code",
   "execution_count": 32,
   "id": "18decb2e",
   "metadata": {},
   "outputs": [],
   "source": [
    "df2.to_csv('../data/dfperf.csv')"
   ]
  },
  {
   "cell_type": "code",
   "execution_count": null,
   "id": "764f9938",
   "metadata": {},
   "outputs": [],
   "source": []
  }
 ],
 "metadata": {
  "kernelspec": {
   "display_name": "Python 3 (ipykernel)",
   "language": "python",
   "name": "python3"
  },
  "language_info": {
   "codemirror_mode": {
    "name": "ipython",
    "version": 3
   },
   "file_extension": ".py",
   "mimetype": "text/x-python",
   "name": "python",
   "nbconvert_exporter": "python",
   "pygments_lexer": "ipython3",
   "version": "3.9.5"
  }
 },
 "nbformat": 4,
 "nbformat_minor": 5
}
